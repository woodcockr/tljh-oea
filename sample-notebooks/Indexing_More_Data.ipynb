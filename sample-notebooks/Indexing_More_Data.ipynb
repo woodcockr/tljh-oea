{
 "cells": [
  {
   "cell_type": "markdown",
   "metadata": {},
   "source": [
    "# Indexing More Data\n",
    "\n",
    "You can use this notebook to index an area of interest. Add a Lat and Lon center and a buffer (but note that you can only index 10,000 STAC items at a time) and run the steps below to add more data to your local ODC index."
   ]
  },
  {
   "cell_type": "code",
   "execution_count": 4,
   "metadata": {},
   "outputs": [],
   "source": [
    "import os\n",
    "\n",
    "import datacube\n",
    "from satsearch import Search\n",
    "from odc.apps.dc_tools.stac_api_to_dc import stac_api_to_odc"
   ]
  },
  {
   "cell_type": "code",
   "execution_count": 2,
   "metadata": {},
   "outputs": [],
   "source": [
    "lon_center = 15\n",
    "lat_center = -15\n",
    "buffer = 1\n",
    "\n",
    "bbox = [lon_center - buffer, lat_center - buffer, lon_center + buffer, lat_center + buffer]\n",
    "\n",
    "start_date = '2017-01-01'\n",
    "end_date = '2021-01-01'\n",
    "\n",
    "collections = ['sentinel-s2-l2a-cogs']\n",
    "\n",
    "config = {\n",
    "    'collections': collections,\n",
    "    'bbox': bbox,\n",
    "    'datetime': f\"{start_date}/{end_date}\"\n",
    "}\n",
    "\n",
    "STAC_API_URL = 'https://explorer.sandbox.dea.ga.gov.au/stac/'\n",
    "\n",
    "os.environ['STAC_API_URL'] = STAC_API_URL"
   ]
  },
  {
   "cell_type": "code",
   "execution_count": 3,
   "metadata": {},
   "outputs": [
    {
     "name": "stdout",
     "output_type": "stream",
     "text": [
      "Found 3936 items that can be indexed\n"
     ]
    }
   ],
   "source": [
    "srch = Search().search(**config)\n",
    "found_items = srch.found()\n",
    "print(f\"Found {found_items} items that can be indexed\")"
   ]
  },
  {
   "cell_type": "markdown",
   "metadata": {},
   "source": [
    "_Note that the following cell will potentially raise some errors or warnings, but should result in data being indexed still._"
   ]
  },
  {
   "cell_type": "code",
   "execution_count": null,
   "metadata": {},
   "outputs": [],
   "source": [
    "dc = datacube.Datacube()\n",
    "\n",
    "indexed, failed = stac_api_to_odc(dc, None, False, False, config)\n",
    "print(f\"Indexed {indexed} out of {found_items} with {failed} failures.\")"
   ]
  }
 ],
 "metadata": {
  "kernelspec": {
   "display_name": "Python 3.7.7 64-bit",
   "language": "python",
   "name": "python37764bit0fb2af63a77e49af99dd377937c85efa"
  },
  "language_info": {
   "codemirror_mode": {
    "name": "ipython",
    "version": 3
   },
   "file_extension": ".py",
   "mimetype": "text/x-python",
   "name": "python",
   "nbconvert_exporter": "python",
   "pygments_lexer": "ipython3",
   "version": "3.7.7-final"
  }
 },
 "nbformat": 4,
 "nbformat_minor": 4
}